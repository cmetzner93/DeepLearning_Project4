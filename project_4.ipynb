{
 "cells": [
  {
   "cell_type": "code",
   "execution_count": 2,
   "metadata": {},
   "outputs": [
    {
     "name": "stderr",
     "output_type": "stream",
     "text": [
      "Using TensorFlow backend.\n"
     ]
    }
   ],
   "source": [
    "import numpy as np\n",
    "from tensorflow import keras\n",
    "from keras.utils import to_categorical\n",
    "from keras.models import Sequential, load_model\n",
    "from keras.layers import Dense\n",
    "from keras.layers import LSTM, SimpleRNN\n",
    "from keras.preprocessing.sequence import pad_sequences\n",
    "from pickle import dump, load\n",
    "import matplotlib.pyplot as plt\n",
    "from keras.utils.vis_utils import plot_model"
   ]
  },
  {
   "cell_type": "markdown",
   "metadata": {},
   "source": [
    "## Task 1"
   ]
  },
  {
   "cell_type": "code",
   "execution_count": 3,
   "metadata": {},
   "outputs": [],
   "source": [
    "def get_train_data(textfile, window_size, stride):\n",
    "    # open the file as read, read text, and close file\n",
    "    file = open(textfile, 'r')\n",
    "    text = file.read()\n",
    "    file.close()\n",
    "    \n",
    "    # strip of the new line characters so that we \n",
    "    # have one long sequence of characters separated only \n",
    "    # by white space\n",
    "    tokens = text.split()\n",
    "    data = ' '.join(tokens)\n",
    "    \n",
    "    # get sequences of characters of length window_size+1\n",
    "    sequences = []\n",
    "    for i in range(window_size, len(data), stride):\n",
    "        sequence = data[i - window_size: i + 1]\n",
    "        sequences.append(sequence)\n",
    "    print('Total Sequences: %d' % len(sequences))\n",
    "    \n",
    "    # save sequences \n",
    "    data = '\\n'.join(sequences)\n",
    "    file = open('train_data.txt', 'w')\n",
    "    file.write(data)\n",
    "    file.close()"
   ]
  },
  {
   "cell_type": "code",
   "execution_count": 3,
   "metadata": {},
   "outputs": [
    {
     "name": "stdout",
     "output_type": "stream",
     "text": [
      "Total Sequences: 166732\n"
     ]
    }
   ],
   "source": [
    "get_train_data('beatles.txt', window_size=10, stride=1)"
   ]
  },
  {
   "cell_type": "markdown",
   "metadata": {},
   "source": [
    "## Task 2"
   ]
  },
  {
   "cell_type": "code",
   "execution_count": 27,
   "metadata": {},
   "outputs": [],
   "source": [
    "def preprocess_data(train_textfile):\n",
    "    # open the file as read, read text, and close file\n",
    "    file = open(train_textfile, 'r')\n",
    "    text = file.read()\n",
    "    file.close()\n",
    "    \n",
    "    # get list of sequences by splitting the text by new line\n",
    "    lines = text.split('\\n')\n",
    "    \n",
    "    # get unique characters\n",
    "    chars = sorted(list(set(text)))\n",
    "    # get mapping of character to integer values and store in a dictionary\n",
    "    char_to_i_mapping = dict((c, i) for i, c in enumerate(chars))\n",
    "    # save the mapping\n",
    "    dump(char_to_i_mapping, open('mapping.pkl', 'wb'))\n",
    "    # get vocabulary size\n",
    "    vocab_size = len(char_to_i_mapping)\n",
    "    print('Vocabulary size: %d' % vocab_size)\n",
    "    \n",
    "    # integer encode each sequence of characters using the dictionary mapping\n",
    "    sequences = []\n",
    "    for line in lines:\n",
    "        # integer encode line\n",
    "        encoded_seq = [char_to_i_mapping[char] for char in line]\n",
    "        # store\n",
    "        sequences.append(encoded_seq)\n",
    "    \n",
    "    # now separate the integer encoded sequences into input and output\n",
    "    sequences = np.array(sequences)\n",
    "    X = sequences[:,:-1]\n",
    "    y = sequences[:,-1]\n",
    "    \n",
    "    # now one-hot encode each character, meaning each character becomes a vector of length vocab_size with a 1 marked \n",
    "    # for the character and 0s elsewhere\n",
    "    sequences = [to_categorical(x, num_classes=vocab_size) for x in X]\n",
    "    X = np.array(sequences)\n",
    "    y = to_categorical(y, num_classes=vocab_size)\n",
    "    print('X shape: %s and y shape: %s' %(X.shape, y.shape))\n",
    "    \n",
    "    return(X, y)"
   ]
  },
  {
   "cell_type": "code",
   "execution_count": 28,
   "metadata": {},
   "outputs": [
    {
     "name": "stdout",
     "output_type": "stream",
     "text": [
      "Vocabulary size: 48\n",
      "X shape: (33347, 10, 48) and y shape: (33347, 48)\n"
     ]
    }
   ],
   "source": [
    "X, y = preprocess_data('train_data.txt')"
   ]
  },
  {
   "cell_type": "markdown",
   "metadata": {},
   "source": [
    "## Task 3"
   ]
  },
  {
   "cell_type": "code",
   "execution_count": 29,
   "metadata": {},
   "outputs": [],
   "source": [
    "def predict_characters(model, mapping, window_size, init_chars, n_chars):\n",
    "    text = init_chars\n",
    "    # predict a fixed number of characters\n",
    "    for i in range(n_chars):\n",
    "        # integer encode the characters\n",
    "        encoded = [mapping[chara] for chara in text]\n",
    "        # truncate sequences to a fixed length\n",
    "        encoded = pad_sequences([encoded], maxlen=window_size, truncating='pre')\n",
    "        # one hot encode\n",
    "        encoded = to_categorical(encoded, num_classes=len(mapping))\n",
    "        # predict the next character\n",
    "        pred_char = model.predict_classes(encoded, verbose=0)\n",
    "        # reverse mapping of predicted character (integer to character)\n",
    "        out_char = ''\n",
    "        for char, index in mapping.items():\n",
    "            if index == pred_char:\n",
    "                out_char = char\n",
    "                break\n",
    "        # append to input\n",
    "        text += out_char\n",
    "    return text"
   ]
  },
  {
   "cell_type": "code",
   "execution_count": 30,
   "metadata": {},
   "outputs": [
    {
     "name": "stdout",
     "output_type": "stream",
     "text": [
      "Model: \"sequential_1\"\n",
      "_________________________________________________________________\n",
      "Layer (type)                 Output Shape              Param #   \n",
      "=================================================================\n",
      "simple_rnn_1 (SimpleRNN)     (None, 100)               14900     \n",
      "_________________________________________________________________\n",
      "dense_1 (Dense)              (None, 48)                4848      \n",
      "=================================================================\n",
      "Total params: 19,748\n",
      "Trainable params: 19,748\n",
      "Non-trainable params: 0\n",
      "_________________________________________________________________\n",
      "None\n",
      "a day in the wello. whot co to\n"
     ]
    }
   ],
   "source": [
    "# load the mapping\n",
    "mapping = load(open('mapping.pkl', 'rb'))\n",
    "# load the model\n",
    "model = load_model('models/rnn_100.h5')\n",
    "print(model.summary())\n",
    "\n",
    "# test start\n",
    "print(predict_characters(model, mapping, 10, 'a day in t', 20))\n",
    "# test middle\n",
    "#print(predict_characters(model, mapping, 10, 'we just ca', 20))\n",
    "# test something random\n",
    "#print(predict_characters(model, mapping, 10, 'now (yeah.', 20))"
   ]
  },
  {
   "cell_type": "markdown",
   "metadata": {},
   "source": [
    "## Task 4"
   ]
  },
  {
   "cell_type": "code",
   "execution_count": 41,
   "metadata": {},
   "outputs": [],
   "source": [
    "class predict_during_training(keras.callbacks.Callback):    \n",
    "    def __init__(self, model, sequences):\n",
    "        self.model = model\n",
    "        self.sequences = sequences\n",
    "        \n",
    "    def on_epoch_end(self, epoch, logs=None):\n",
    "        mapping = load(open('mapping.pkl', 'rb'))\n",
    "        window_size = len(self.sequences[0])\n",
    "        if epoch%5 == 0:\n",
    "            for i in self.sequences:\n",
    "                text = predict_characters(self.model, mapping, window_size=window_size, \n",
    "                                      init_chars=i, n_chars=10)\n",
    "                print(text) # return prediction\n",
    "            print()\n",
    "\n",
    "def train_model(model, X, y, n_epochs, model_name):\n",
    "    # open the file as read, read text, and close file\n",
    "    file = open('train_data.txt', 'r')\n",
    "    text = file.read()\n",
    "    file.close()\n",
    "    # get list of sequences by splitting the text by new line\n",
    "    lines = text.split('\\n')\n",
    "        \n",
    "    # get list of 3 random sequences from training data which will be used to \n",
    "    # generate/predict characters during training\n",
    "    random_indexes = list(np.random.randint(low=0, high=len(lines) - X.shape[1] - 1, size=3))\n",
    "    random_sequences = [lines[index][:-1] for index in random_indexes]\n",
    "    \n",
    "    # compile model\n",
    "    model.compile(loss='categorical_crossentropy', optimizer='adam')\n",
    "    # fit model\n",
    "    history = model.fit(X, y, epochs=n_epochs, verbose=1, \n",
    "                        callbacks=[predict_during_training(model, random_sequences)])\n",
    "    # save model for later use\n",
    "    model.save('models/%s.h5' %(model_name))\n",
    "    # save model history\n",
    "    with open('train_history/%s.pkl' %(model_name), 'wb') as file:\n",
    "        dump(history.history, file)\n",
    "        \n",
    "    # Plot training loss values vs epochs\n",
    "    epoch_loss_plot(history.history, n_epochs, model_name)\n",
    "    \n",
    "    return history"
   ]
  },
  {
   "cell_type": "code",
   "execution_count": 37,
   "metadata": {},
   "outputs": [],
   "source": [
    "def epoch_loss_plot(history_dict, n_epochs, model_name):\n",
    "    # Plot training loss values vs epochs\n",
    "    #plt.figure(figsize=(10,8))\n",
    "    plt.plot(history_dict['loss'])\n",
    "    plt.title('Loss vs. Epochs')\n",
    "    plt.ylabel('Loss')\n",
    "    plt.xlabel('Epoch')\n",
    "    plt.legend(['Train'], loc='upper right')\n",
    "    plt.savefig('plots/epoch_loss_%s.png' %(model_name))\n",
    "    plt.show()"
   ]
  },
  {
   "cell_type": "code",
   "execution_count": 38,
   "metadata": {},
   "outputs": [
    {
     "name": "stdout",
     "output_type": "stream",
     "text": [
      "Vocabulary size: 48\n"
     ]
    }
   ],
   "source": [
    "# load the mapping and get vocab size\n",
    "mapping = load(open('mapping.pkl', 'rb'))\n",
    "vocab_size = len(mapping)\n",
    "print('Vocabulary size: %d' % vocab_size)"
   ]
  },
  {
   "cell_type": "code",
   "execution_count": 39,
   "metadata": {},
   "outputs": [
    {
     "name": "stdout",
     "output_type": "stream",
     "text": [
      "Model: \"sequential_3\"\n",
      "_________________________________________________________________\n",
      "Layer (type)                 Output Shape              Param #   \n",
      "=================================================================\n",
      "lstm_2 (LSTM)                (None, 75)                37200     \n",
      "_________________________________________________________________\n",
      "dense_2 (Dense)              (None, 48)                3648      \n",
      "=================================================================\n",
      "Total params: 40,848\n",
      "Trainable params: 40,848\n",
      "Non-trainable params: 0\n",
      "_________________________________________________________________\n",
      "None\n"
     ]
    }
   ],
   "source": [
    "# LSTM: \n",
    "test = Sequential()\n",
    "test.add(LSTM(75, input_shape=(X.shape[1], X.shape[2])))\n",
    "test.add(Dense(vocab_size, activation='softmax'))\n",
    "print(test.summary())"
   ]
  },
  {
   "cell_type": "code",
   "execution_count": 40,
   "metadata": {},
   "outputs": [
    {
     "name": "stdout",
     "output_type": "stream",
     "text": [
      "Epoch 1/20\n",
      "200/200 [==============================] - 1s 6ms/step - loss: 3.8585\n",
      "ake it up,or  notoru u nouu no\n",
      "n see thema n nippc..c.macaaft\n",
      "ike you. luu otor u notoru u n\n",
      "\n",
      "Epoch 2/20\n",
      "200/200 [==============================] - 0s 701us/step - loss: 3.8075\n",
      "Epoch 3/20\n",
      "200/200 [==============================] - 0s 708us/step - loss: 3.7297\n",
      "Epoch 4/20\n",
      "200/200 [==============================] - 0s 712us/step - loss: 3.5420\n",
      "Epoch 5/20\n",
      "200/200 [==============================] - 0s 717us/step - loss: 3.1234\n",
      "Epoch 6/20\n",
      "200/200 [==============================] - 0s 716us/step - loss: 2.9347\n",
      "ake it up,                    \n",
      "n see them                    \n",
      "ike you. l                    \n",
      "\n",
      "Epoch 7/20\n",
      "200/200 [==============================] - 0s 726us/step - loss: 2.8493\n",
      "Epoch 8/20\n",
      "200/200 [==============================] - 0s 709us/step - loss: 2.8131\n",
      "Epoch 9/20\n",
      "200/200 [==============================] - 0s 718us/step - loss: 2.7884\n",
      "Epoch 10/20\n",
      "200/200 [==============================] - 0s 719us/step - loss: 2.7746\n",
      "Epoch 11/20\n",
      "200/200 [==============================] - 0s 712us/step - loss: 2.7632\n",
      "ake it up,                    \n",
      "n see them                    \n",
      "ike you. l                    \n",
      "\n",
      "Epoch 12/20\n",
      "200/200 [==============================] - 0s 762us/step - loss: 2.7509\n",
      "Epoch 13/20\n",
      "200/200 [==============================] - 0s 797us/step - loss: 2.7396\n",
      "Epoch 14/20\n",
      "200/200 [==============================] - 0s 743us/step - loss: 2.7307\n",
      "Epoch 15/20\n",
      "200/200 [==============================] - 0s 729us/step - loss: 2.7176\n",
      "Epoch 16/20\n",
      "200/200 [==============================] - 0s 710us/step - loss: 2.7073\n",
      "ake it up,                    \n",
      "n see them                    \n",
      "ike you. l                    \n",
      "\n",
      "Epoch 17/20\n",
      "200/200 [==============================] - 0s 730us/step - loss: 2.6931\n",
      "Epoch 18/20\n",
      "200/200 [==============================] - 0s 728us/step - loss: 2.6841\n",
      "Epoch 19/20\n",
      "200/200 [==============================] - 0s 724us/step - loss: 2.6666\n",
      "Epoch 20/20\n",
      "200/200 [==============================] - 0s 746us/step - loss: 2.6520\n"
     ]
    },
    {
     "data": {
      "image/png": "[encoded data removed]",
      "text/plain": [
       "<Figure size 432x288 with 1 Axes>"
      ]
     },
     "metadata": {
      "needs_background": "light"
     },
     "output_type": "display_data"
    }
   ],
   "source": [
    "history = train_model(test, X[:200], y[:200], n_epochs=20, model_name='test')"
   ]
  },
  {
   "cell_type": "markdown",
   "metadata": {},
   "source": [
    "## Task 5"
   ]
  },
  {
   "cell_type": "code",
   "execution_count": null,
   "metadata": {},
   "outputs": [],
   "source": [
    "# load the mapping\n",
    "mapping = load(open('mapping.pkl', 'rb'))\n",
    "# load model\n",
    "model = load_model('models/rnn_100.h5')\n",
    "print(model.summary())\n",
    "\n",
    "# test start\n",
    "print(predict_characters(model, mapping, 10, 'a day in t', 20))\n",
    "# test middle\n",
    "print(predict_characters(model, mapping, 10, 'we just ca', 20))\n",
    "# test something random\n",
    "print(predict_characters(model, mapping, 10, 'now (yeah.', 20))"
   ]
  },
  {
   "cell_type": "code",
   "execution_count": 99,
   "metadata": {
    "collapsed": true
   },
   "outputs": [
    {
     "name": "stdout",
     "output_type": "stream",
     "text": [
      "Model: \"sequential_6\"\n",
      "_________________________________________________________________\n",
      "Layer (type)                 Output Shape              Param #   \n",
      "=================================================================\n",
      "simple_rnn_5 (SimpleRNN)     (None, 50)                4950      \n",
      "_________________________________________________________________\n",
      "dense_5 (Dense)              (None, 48)                2448      \n",
      "=================================================================\n",
      "Total params: 7,398\n",
      "Trainable params: 7,398\n",
      "Non-trainable params: 0\n",
      "_________________________________________________________________\n"
     ]
    },
    {
     "name": "stderr",
     "output_type": "stream",
     "text": [
      "/Users/annanau/anaconda3/envs/tf/lib/python3.7/site-packages/ipykernel_launcher.py:3: UserWarning: The `input_dim` and `input_length` arguments in recurrent layers are deprecated. Use `input_shape` instead.\n",
      "  This is separate from the ipykernel package so we can avoid doing imports until\n",
      "/Users/annanau/anaconda3/envs/tf/lib/python3.7/site-packages/ipykernel_launcher.py:3: UserWarning: Update your `SimpleRNN` call to the Keras 2 API: `SimpleRNN(50, input_shape=(None, 48))`\n",
      "  This is separate from the ipykernel package so we can avoid doing imports until\n"
     ]
    }
   ],
   "source": [
    "# SimpleRNN: 75\n",
    "model1 = Sequential() \n",
    "model1.add(SimpleRNN(50, input_dim=vocab_size)) \n",
    "model1.add(Dense(vocab_size))\n",
    "model1.summary()"
   ]
  },
  {
   "cell_type": "code",
   "execution_count": 100,
   "metadata": {
    "collapsed": true
   },
   "outputs": [
    {
     "name": "stdout",
     "output_type": "stream",
     "text": [
      "Epoch 1/10\n",
      "166732/166732 [==============================] - 30s 179us/step - loss: 8.3699\n",
      "'cos i kno     \n",
      "\n",
      "Epoch 2/10\n",
      "166732/166732 [==============================] - 31s 185us/step - loss: 8.1892\n",
      "\n",
      "Epoch 3/10\n",
      "166732/166732 [==============================] - 31s 187us/step - loss: 8.3546\n",
      "y yes we'r     \n",
      "\n",
      "Epoch 4/10\n",
      "166732/166732 [==============================] - 31s 183us/step - loss: 8.5015\n",
      "\n",
      "Epoch 5/10\n",
      "166732/166732 [==============================] - 31s 188us/step - loss: 8.1620\n",
      ", she’s go     \n",
      "\n",
      "Epoch 6/10\n",
      "166732/166732 [==============================] - 33s 200us/step - loss: 8.3374\n",
      "\n",
      "Epoch 7/10\n",
      "166732/166732 [==============================] - 33s 198us/step - loss: 8.1473\n",
      " she keeps     \n",
      "\n",
      "Epoch 8/10\n",
      "166732/166732 [==============================] - 34s 202us/step - loss: 8.1349\n",
      "\n",
      "Epoch 9/10\n",
      "166732/166732 [==============================] - 33s 200us/step - loss: 8.0701\n",
      "joob. expe     \n",
      "\n",
      "Epoch 10/10\n",
      "166732/166732 [==============================] - 33s 198us/step - loss: 8.1263\n",
      "\n"
     ]
    },
    {
     "data": {
      "image/png": "[encoded data removed]",
      "text/plain": [
       "<Figure size 576x432 with 1 Axes>"
      ]
     },
     "metadata": {
      "needs_background": "light"
     },
     "output_type": "display_data"
    }
   ],
   "source": [
    "train_model(model1, X, y, n_epochs=10)"
   ]
  },
  {
   "cell_type": "code",
   "execution_count": 103,
   "metadata": {},
   "outputs": [],
   "source": [
    "model1.save('model1.h5')"
   ]
  },
  {
   "cell_type": "code",
   "execution_count": null,
   "metadata": {},
   "outputs": [],
   "source": [
    "# SimpleRNN\n",
    "model2 = Sequential() \n",
    "model2.add(SimpleRNN(100, input_dim=vocab_size)) \n",
    "model2.add(Dense(vocab_size))\n",
    "model2.summary()"
   ]
  },
  {
   "cell_type": "code",
   "execution_count": null,
   "metadata": {},
   "outputs": [],
   "source": [
    "model.save('model2.h5')"
   ]
  },
  {
   "cell_type": "code",
   "execution_count": null,
   "metadata": {},
   "outputs": [],
   "source": [
    "# SimpleRNN\n",
    "model3 = Sequential() \n",
    "model3.add(SimpleRNN(100, input_dim=vocab_size)) \n",
    "model3.add(Dense(vocab_size))\n",
    "model3.summary()"
   ]
  },
  {
   "cell_type": "code",
   "execution_count": null,
   "metadata": {},
   "outputs": [],
   "source": [
    "model.save('model3.h5')"
   ]
  },
  {
   "cell_type": "code",
   "execution_count": null,
   "metadata": {},
   "outputs": [],
   "source": [
    "# SimpleRNN\n",
    "model4 = Sequential() \n",
    "model4.add(SimpleRNN(100, input_dim=vocab_size)) \n",
    "model4.add(Dense(vocab_size))\n",
    "model4.summary()"
   ]
  },
  {
   "cell_type": "code",
   "execution_count": 13,
   "metadata": {},
   "outputs": [
    {
     "name": "stdout",
     "output_type": "stream",
     "text": [
      "Model: \"sequential_3\"\n",
      "_________________________________________________________________\n",
      "Layer (type)                 Output Shape              Param #   \n",
      "=================================================================\n",
      "lstm_3 (LSTM)                (None, 75)                37200     \n",
      "_________________________________________________________________\n",
      "dense_2 (Dense)              (None, 48)                3648      \n",
      "=================================================================\n",
      "Total params: 40,848\n",
      "Trainable params: 40,848\n",
      "Non-trainable params: 0\n",
      "_________________________________________________________________\n",
      "None\n"
     ]
    },
    {
     "data": {
      "image/png": "[encoded data removed]",
      "text/plain": [
       "<IPython.core.display.Image object>"
      ]
     },
     "execution_count": 13,
     "metadata": {},
     "output_type": "execute_result"
    }
   ],
   "source": [
    "# LSTM: \n",
    "model5 = Sequential()\n",
    "model5.add(LSTM(75, input_shape=(X.shape[1], X.shape[2])))\n",
    "model5.add(Dense(vocab_size, activation='softmax'))\n",
    "print(model5.summary())\n",
    "plot_model(model5, 'models/model5.png', show_shapes=True)"
   ]
  },
  {
   "cell_type": "code",
   "execution_count": 24,
   "metadata": {
    "collapsed": true
   },
   "outputs": [
    {
     "name": "stdout",
     "output_type": "stream",
     "text": [
      "Epoch 1/50\n",
      "166732/166732 [==============================] - 32s 194us/step - loss: 2.8418\n",
      "'s in blac io the to\n",
      "\n",
      "Epoch 2/50\n",
      "166732/166732 [==============================] - 33s 196us/step - loss: 2.3375\n",
      "\n",
      "Epoch 3/50\n",
      "166732/166732 [==============================] - 35s 208us/step - loss: 2.1706\n",
      "\n",
      "Epoch 4/50\n",
      "166732/166732 [==============================] - 34s 205us/step - loss: 2.0802\n",
      "\n",
      "Epoch 5/50\n",
      "166732/166732 [==============================] - 34s 205us/step - loss: 2.0130\n",
      "\n",
      "Epoch 6/50\n",
      "166732/166732 [==============================] - 34s 204us/step - loss: 1.9572\n",
      "\n",
      "Epoch 7/50\n",
      "166732/166732 [==============================] - 35s 210us/step - loss: 1.9104\n",
      "\n",
      "Epoch 8/50\n",
      "166732/166732 [==============================] - 36s 219us/step - loss: 1.8671\n",
      "\n",
      "Epoch 9/50\n",
      "166732/166732 [==============================] - 34s 206us/step - loss: 1.8296\n",
      "\n",
      "Epoch 10/50\n",
      "166732/166732 [==============================] - 34s 205us/step - loss: 1.7949\n",
      "\n",
      "Epoch 11/50\n",
      "166732/166732 [==============================] - 35s 207us/step - loss: 1.7633\n",
      "donna, ching to see \n",
      "\n",
      "Epoch 12/50\n",
      "166732/166732 [==============================] - 35s 208us/step - loss: 1.7339\n",
      "\n",
      "Epoch 13/50\n",
      "166732/166732 [==============================] - 35s 211us/step - loss: 1.7075\n",
      "\n",
      "Epoch 14/50\n",
      "166732/166732 [==============================] - 35s 208us/step - loss: 1.6831\n",
      "\n",
      "Epoch 15/50\n",
      "166732/166732 [==============================] - 35s 207us/step - loss: 1.6606\n",
      "\n",
      "Epoch 16/50\n",
      "166732/166732 [==============================] - 35s 210us/step - loss: 1.6396\n",
      "\n",
      "Epoch 17/50\n",
      "166732/166732 [==============================] - 35s 210us/step - loss: 1.6194\n",
      "\n",
      "Epoch 18/50\n",
      "166732/166732 [==============================] - 34s 205us/step - loss: 1.6017\n",
      "\n",
      "Epoch 19/50\n",
      "166732/166732 [==============================] - 35s 210us/step - loss: 1.5846\n",
      "\n",
      "Epoch 20/50\n",
      "166732/166732 [==============================] - 34s 203us/step - loss: 1.5676\n",
      "\n",
      "Epoch 21/50\n",
      "166732/166732 [==============================] - 34s 203us/step - loss: 1.5524\n",
      "he fool on the say t\n",
      "\n",
      "Epoch 22/50\n",
      "166732/166732 [==============================] - 34s 204us/step - loss: 1.5374\n",
      "\n",
      "Epoch 23/50\n",
      "166732/166732 [==============================] - 34s 203us/step - loss: 1.5235\n",
      "\n",
      "Epoch 24/50\n",
      "166732/166732 [==============================] - 34s 203us/step - loss: 1.5101\n",
      "\n",
      "Epoch 25/50\n",
      "166732/166732 [==============================] - 35s 208us/step - loss: 1.4974\n",
      "\n",
      "Epoch 26/50\n",
      "166732/166732 [==============================] - 35s 209us/step - loss: 1.4853\n",
      "\n",
      "Epoch 27/50\n",
      "166732/166732 [==============================] - 35s 208us/step - loss: 1.4732\n",
      "\n",
      "Epoch 28/50\n",
      "166732/166732 [==============================] - 34s 206us/step - loss: 1.4619\n",
      "\n",
      "Epoch 29/50\n",
      "166732/166732 [==============================] - 34s 206us/step - loss: 1.4516\n",
      "\n",
      "Epoch 30/50\n",
      "166732/166732 [==============================] - 34s 205us/step - loss: 1.4407\n",
      "\n",
      "Epoch 31/50\n",
      "166732/166732 [==============================] - 34s 206us/step - loss: 1.4307\n",
      "you’re going to me t\n",
      "\n",
      "Epoch 32/50\n",
      "166732/166732 [==============================] - 35s 212us/step - loss: 1.4214\n",
      "\n",
      "Epoch 33/50\n",
      "166732/166732 [==============================] - 34s 207us/step - loss: 1.4118\n",
      "\n",
      "Epoch 34/50\n",
      "166732/166732 [==============================] - 35s 210us/step - loss: 1.4026\n",
      "\n",
      "Epoch 35/50\n",
      "166732/166732 [==============================] - 35s 208us/step - loss: 1.3932\n",
      "\n",
      "Epoch 36/50\n",
      "166732/166732 [==============================] - 35s 211us/step - loss: 1.3859\n",
      "\n",
      "Epoch 37/50\n",
      "166732/166732 [==============================] - 34s 206us/step - loss: 1.3774\n",
      "\n",
      "Epoch 38/50\n",
      "166732/166732 [==============================] - 34s 207us/step - loss: 1.3686\n",
      "\n",
      "Epoch 39/50\n",
      "166732/166732 [==============================] - 35s 213us/step - loss: 1.3612\n",
      "\n",
      "Epoch 40/50\n",
      "166732/166732 [==============================] - 36s 214us/step - loss: 1.3537\n",
      "\n",
      "Epoch 41/50\n",
      "166732/166732 [==============================] - 35s 212us/step - loss: 1.3464\n",
      " all i want to me th\n",
      "\n",
      "Epoch 42/50\n",
      "166732/166732 [==============================] - 36s 217us/step - loss: 1.3398\n",
      "\n",
      "Epoch 43/50\n",
      "166732/166732 [==============================] - 36s 214us/step - loss: 1.3326\n",
      "\n",
      "Epoch 44/50\n",
      "166732/166732 [==============================] - 35s 208us/step - loss: 1.3257\n",
      "\n",
      "Epoch 45/50\n",
      "166732/166732 [==============================] - 34s 206us/step - loss: 1.3190\n",
      "\n",
      "Epoch 46/50\n",
      "166732/166732 [==============================] - 35s 211us/step - loss: 1.3124\n",
      "\n",
      "Epoch 47/50\n",
      "166732/166732 [==============================] - 35s 209us/step - loss: 1.3065\n",
      "\n",
      "Epoch 48/50\n",
      "166732/166732 [==============================] - 35s 207us/step - loss: 1.3005\n",
      "\n",
      "Epoch 49/50\n",
      "166732/166732 [==============================] - 35s 212us/step - loss: 1.2950\n",
      "\n",
      "Epoch 50/50\n",
      "166732/166732 [==============================] - 36s 215us/step - loss: 1.2888\n",
      "\n"
     ]
    },
    {
     "data": {
      "image/png": "[encoded data removed]",
      "text/plain": [
       "<Figure size 576x432 with 1 Axes>"
      ]
     },
     "metadata": {
      "needs_background": "light"
     },
     "output_type": "display_data"
    }
   ],
   "source": [
    "train_model(model5, X, y, n_epochs=50)"
   ]
  },
  {
   "cell_type": "code",
   "execution_count": 26,
   "metadata": {},
   "outputs": [],
   "source": [
    "model5.save('model5.h5')"
   ]
  },
  {
   "cell_type": "code",
   "execution_count": 39,
   "metadata": {},
   "outputs": [
    {
     "name": "stdout",
     "output_type": "stream",
     "text": [
      "Model: \"sequential_4\"\n",
      "_________________________________________________________________\n",
      "Layer (type)                 Output Shape              Param #   \n",
      "=================================================================\n",
      "lstm_4 (LSTM)                (None, 75)                37200     \n",
      "_________________________________________________________________\n",
      "dense_3 (Dense)              (None, 48)                3648      \n",
      "=================================================================\n",
      "Total params: 40,848\n",
      "Trainable params: 40,848\n",
      "Non-trainable params: 0\n",
      "_________________________________________________________________\n",
      "None\n"
     ]
    },
    {
     "data": {
      "image/png": "[encoded data removed]",
      "text/plain": [
       "<IPython.core.display.Image object>"
      ]
     },
     "execution_count": 39,
     "metadata": {},
     "output_type": "execute_result"
    }
   ],
   "source": [
    "# LSTM: \n",
    "model6 = Sequential()\n",
    "model6.add(LSTM(100, input_shape=(X.shape[1], X.shape[2])))\n",
    "model6.add(Dense(vocab_size, activation='softmax'))\n",
    "print(model5.summary())\n",
    "plot_model(model6, 'model6.png', show_shapes=True)"
   ]
  },
  {
   "cell_type": "code",
   "execution_count": 44,
   "metadata": {
    "scrolled": false
   },
   "outputs": [
    {
     "name": "stdout",
     "output_type": "stream",
     "text": [
      "ally well,\n",
      "Epoch 1/5\n",
      "166732/166732 [==============================] - 147s 882us/step - loss: 2.1833\n",
      "ally well, want to t\n",
      "\n",
      "Epoch 2/5\n",
      "166732/166732 [==============================] - 154s 921us/step - loss: 1.7655\n",
      "ally well, i want yo\n",
      "\n",
      "Epoch 3/5\n",
      "166732/166732 [==============================] - 155s 927us/step - loss: 1.5896\n",
      "ally well, you know \n",
      "\n",
      "Epoch 4/5\n",
      "166732/166732 [==============================] - 155s 927us/step - loss: 1.4763\n",
      "ally well, i don't l\n",
      "\n",
      "Epoch 5/5\n",
      "166732/166732 [==============================] - 155s 928us/step - loss: 1.3920\n",
      "ally well, i never h\n",
      "\n"
     ]
    },
    {
     "data": {
      "image/png": "[encoded data removed]",
      "text/plain": [
       "<Figure size 576x432 with 1 Axes>"
      ]
     },
     "metadata": {
      "needs_background": "light"
     },
     "output_type": "display_data"
    }
   ],
   "source": [
    "train_model(model6, X, y, n_epochs=5)"
   ]
  },
  {
   "cell_type": "code",
   "execution_count": null,
   "metadata": {},
   "outputs": [],
   "source": [
    "# LSTM: \n",
    "model7 = Sequential()\n",
    "model7.add(LSTM(75, input_shape=(X.shape[1], X.shape[2])))\n",
    "model7.add(Dense(vocab_size, activation='softmax'))\n",
    "print(model5.summary())"
   ]
  },
  {
   "cell_type": "code",
   "execution_count": null,
   "metadata": {},
   "outputs": [],
   "source": [
    "# LSTM: \n",
    "model8 = Sequential()\n",
    "model8.add(LSTM(75, input_shape=(X.shape[1], X.shape[2])))\n",
    "model8.add(Dense(vocab_size, activation='softmax'))\n",
    "print(model5.summary())"
   ]
  },
  {
   "cell_type": "code",
   "execution_count": 40,
   "metadata": {},
   "outputs": [],
   "source": [
    "model.save('model.h5')"
   ]
  },
  {
   "cell_type": "markdown",
   "metadata": {},
   "source": [
    "## Other"
   ]
  },
  {
   "cell_type": "code",
   "execution_count": 63,
   "metadata": {},
   "outputs": [],
   "source": [
    "class MyCustomCallback(keras.callbacks.Callback):    \n",
    "    def on_epoch_end(self, epoch, logs=None):\n",
    "        mapping = load(open('mapping.pkl', 'rb'))\n",
    "        random_index = np.random.randint(low=0, high=X.shape[0], size=1)\n",
    "        if epoch%2 == 0:\n",
    "            prediction = model.predict_classes(np.reshape(X[random_index], (1, X[0].shape[0], X[0].shape[1])))\n",
    "            out_char = ''\n",
    "            for char, index in mapping.items():\n",
    "                if index == prediction:\n",
    "                    out_char = char\n",
    "                    break\n",
    "            print(out_char) # return prediction\n",
    "\n",
    "def task4(model, X, y, n_epochs=100):\n",
    "    # compile model\n",
    "    model.compile(loss='categorical_crossentropy', optimizer='adam')\n",
    "    # fit model\n",
    "    history = model.fit(X, y, epochs=n_epochs, verbose=1, callbacks=[MyCustomCallback()])\n",
    "    \n",
    "    # Plot training loss values vs epochs\n",
    "    plt.figure(figsize=(8,6))\n",
    "    plt.plot(history.history['loss'])\n",
    "    plt.title('Loss vs. Epochs')\n",
    "    plt.xticks(np.arange(0, n_epochs, step=1))\n",
    "    plt.ylabel('Loss')\n",
    "    plt.xlabel('Epoch')\n",
    "    plt.legend(['Train'], loc='upper right')\n",
    "    plt.savefig('epoch_loss.png')\n",
    "    plt.show()"
   ]
  },
  {
   "cell_type": "code",
   "execution_count": 57,
   "metadata": {},
   "outputs": [],
   "source": [
    "def get_train_data_old(textfile, window_size, stride):\n",
    "    # open the file as read, read text, and close file\n",
    "    file = open(textfile, 'r')\n",
    "    text = file.read()\n",
    "    file.close()\n",
    "    \n",
    "    # strip of the new line characters so that we \n",
    "    # have one long sequence of characters separated only \n",
    "    # by white space\n",
    "    tokens = text.split()\n",
    "    data = ' '.join(tokens)\n",
    "    print(len(data))\n",
    "    \n",
    "    # get sequences of characters of length window_size+1\n",
    "    sequences = []\n",
    "    for i in range(0, len(data) - (window_size + 1), stride):\n",
    "        sequence = data[i : i + window_size + 1]\n",
    "        sequences.append(sequence)\n",
    "    print('Total Sequences: %d' % len(sequences))\n",
    "    \n",
    "    # save sequences \n",
    "    data = '\\n'.join(sequences)\n",
    "    file = open('train_data.txt', 'w')\n",
    "    file.write(data)\n",
    "    file.close()"
   ]
  },
  {
   "cell_type": "code",
   "execution_count": 37,
   "metadata": {},
   "outputs": [],
   "source": [
    "class predict_during_training(keras.callbacks.Callback):    \n",
    "    def __init__(self, model, random_seq):\n",
    "        self.model = model\n",
    "        self.random_seq = random_seq\n",
    "    \n",
    "    def on_epoch_end(self, epoch, model, logs=None):\n",
    "        # open the file as read, read text, and close file\n",
    "        file = open('train_data.txt', 'r')\n",
    "        text = file.read()\n",
    "        file.close()\n",
    "        # get list of sequences by splitting the text by new line\n",
    "        lines = text.split('\\n')\n",
    "        \n",
    "        # load the mapping\n",
    "        mapping = load(open('mapping.pkl', 'rb'))\n",
    "        \n",
    "        random_index = np.random.randint(low=0, high=len(lines), size=1)[0]\n",
    "        random_seq = lines[random_index][:-1]\n",
    "        window_size = len(random_seq)\n",
    "        if epoch%10 == 0:\n",
    "            text = predict_characters(self.model, mapping, window_size=window_size, init_chars=random_seq, n_chars=10)\n",
    "            print(text) # return prediction\n",
    "        print()\n",
    "\n",
    "def train_model(model, X, y, n_epochs):\n",
    "    # compile model\n",
    "    model.compile(loss='categorical_crossentropy', optimizer='adam')\n",
    "    # fit model\n",
    "    history = model.fit(X, y, batch_size=500, epochs=n_epochs, verbose=1, callbacks=[predict_during_training(model)])\n",
    "\n",
    "    # Plot training loss values vs epochs\n",
    "    plt.figure(figsize=(10,8))\n",
    "    plt.plot(history.history['loss'])\n",
    "    plt.title('Loss vs. Epochs')\n",
    "    plt.ylabel('Loss')\n",
    "    plt.xlabel('Epoch')\n",
    "    plt.legend(['Train'], loc='upper right')\n",
    "    plt.savefig('epoch_loss.png')\n",
    "    plt.show()"
   ]
  },
  {
   "cell_type": "code",
   "execution_count": 127,
   "metadata": {},
   "outputs": [],
   "source": [
    "class predict_during_training(keras.callbacks.Callback):    \n",
    "    def __init__(self, model, sequences):\n",
    "        self.model = model\n",
    "        self.sequences = sequences\n",
    "        \n",
    "    def on_epoch_end(self, epoch, logs=None):\n",
    "        mapping = load(open('mapping.pkl', 'rb'))\n",
    "        window_size = len(self.sequences[0])\n",
    "        if epoch%1 == 0:\n",
    "            for i in self.sequences:\n",
    "                text = predict_characters(self.model, mapping, window_size=window_size, \n",
    "                                      init_chars=i, n_chars=10)\n",
    "                print(text) # return prediction\n",
    "            print()\n",
    "\n",
    "def train_model(model, X, y, n_epochs, model_name):\n",
    "    # open the file as read, read text, and close file\n",
    "    file = open('train_data.txt', 'r')\n",
    "    text = file.read()\n",
    "    file.close()\n",
    "    # get list of sequences by splitting the text by new line\n",
    "    lines = text.split('\\n')\n",
    "        \n",
    "    random_indexes = list(np.random.randint(low=0, high=len(lines), size=4))\n",
    "    random_sequences = [lines[index][:-1] for index in random_indexes]\n",
    "    \n",
    "    # compile model\n",
    "    model.compile(loss='categorical_crossentropy', optimizer='adam')\n",
    "    # fit model\n",
    "    history = model.fit(X, y, epochs=n_epochs, verbose=1, \n",
    "                        callbacks=[predict_during_training(model, random_sequences)])\n",
    "    # save model for later use\n",
    "    model.save('models/%s.h5' %(model_name))\n",
    "    # save model history\n",
    "    with open('train_history/%s.pkl' %(model_name), 'wb') as file:\n",
    "        dump(history.history, file)\n",
    "        \n",
    "    # Plot training loss values vs epochs\n",
    "    epoch_loss_plot(history.history, model_name)\n",
    "    \n",
    "    return history"
   ]
  },
  {
   "cell_type": "code",
   "execution_count": null,
   "metadata": {},
   "outputs": [],
   "source": [
    "class predict_during_training(keras.callbacks.Callback):    \n",
    "    def __init__(self, model, random_sequences):\n",
    "        self.model = model\n",
    "        self.random_sequences = random_sequences\n",
    "        \n",
    "    def on_epoch_end(self, epoch, logs=None):\n",
    "        mapping = load(open('mapping.pkl', 'rb'))\n",
    "        window_size = len(self.random_seq)\n",
    "        if epoch%1 == 0:\n",
    "            for i in self.random_sequences:\n",
    "                text = predict_characters(self.model, mapping, window_size=window_size, \n",
    "                                      init_chars=i, n_chars=10)\n",
    "                print(text) # return prediction\n",
    "            print()\n",
    "\n",
    "def train_model(model, X, y, n_epochs, model_name):\n",
    "    # open the file as read, read text, and close file\n",
    "    file = open('train_data.txt', 'r')\n",
    "    text = file.read()\n",
    "    file.close()\n",
    "    # get list of sequences by splitting the text by new line\n",
    "    lines = text.split('\\n')\n",
    "        \n",
    "    random_index = np.random.randint(low=0, high=len(lines), size=4)[0]\n",
    "    random_seq = lines[random_index][:-1]\n",
    "    print(random_seq)\n",
    "    \n",
    "    # compile model\n",
    "    model.compile(loss='categorical_crossentropy', optimizer='adam')\n",
    "    # fit model\n",
    "    history = model.fit(X, y, epochs=n_epochs, verbose=1, \n",
    "                        callbacks=[predict_during_training(model, random_seq)])\n",
    "    # save model for later use\n",
    "    model.save('models/%s.h5' %(model_name))\n",
    "    # save model history\n",
    "    with open('train_history/%s.pkl' %(model_name), 'wb') as file:\n",
    "        dump(history.history, file)\n",
    "        \n",
    "    # Plot training loss values vs epochs\n",
    "    epoch_loss_plot(history.history, model_name)\n",
    "    \n",
    "    return history"
   ]
  }
 ],
 "metadata": {
  "kernelspec": {
   "display_name": "Python 3",
   "language": "python",
   "name": "python3"
  },
  "language_info": {
   "codemirror_mode": {
    "name": "ipython",
    "version": 3
   },
   "file_extension": ".py",
   "mimetype": "text/x-python",
   "name": "python",
   "nbconvert_exporter": "python",
   "pygments_lexer": "ipython3",
   "version": "3.7.7"
  }
 },
 "nbformat": 4,
 "nbformat_minor": 4
}
