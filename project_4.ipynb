{
 "cells": [
  {
   "cell_type": "code",
   "execution_count": 133,
   "metadata": {},
   "outputs": [],
   "source": [
    "import numpy as np\n",
    "from tensorflow import keras\n",
    "from keras.utils import to_categorical\n",
    "from keras.models import Sequential\n",
    "from keras.layers import Dense\n",
    "from keras.layers import LSTM, SimpleRNN\n",
    "from keras.preprocessing.sequence import pad_sequences\n",
    "from pickle import dump, load\n",
    "import matplotlib.pyplot as plt"
   ]
  },
  {
   "cell_type": "markdown",
   "metadata": {},
   "source": [
    "## Task 1"
   ]
  },
  {
   "cell_type": "code",
   "execution_count": 2,
   "metadata": {},
   "outputs": [],
   "source": [
    "def task1(textfile, window_size, stride):\n",
    "    # open the file as read, read text, and close file\n",
    "    file = open(textfile, 'r')\n",
    "    text = file.read()\n",
    "    file.close()\n",
    "    print(text[:50])\n",
    "    \n",
    "    #  strip all of the new line characters so that we \n",
    "    # have one long sequence of characters separated only \n",
    "    # by white space\n",
    "    tokens = text.split()\n",
    "    print(tokens[:50])\n",
    "    data = ' '.join(tokens)\n",
    "    print(data[:50])\n",
    "    \n",
    "    # get sequences of characters of length window_size+1\n",
    "    sequences = []\n",
    "    for i in range(0, len(data) - (window_size + 1), stride):\n",
    "        sequence = data[i : i + window_size + 1]\n",
    "        sequences.append(sequence)\n",
    "    print('Total Sequences: %d' % len(sequences))\n",
    "    \n",
    "    # save sequences \n",
    "    data = '\\n'.join(sequences)\n",
    "    file = open('train_data.txt', 'w')\n",
    "    file.write(data)\n",
    "    file.close()"
   ]
  },
  {
   "cell_type": "code",
   "execution_count": 3,
   "metadata": {},
   "outputs": [
    {
     "name": "stdout",
     "output_type": "stream",
     "text": [
      "a day in the life\n",
      "i read the news today oh boy\n",
      "abo\n",
      "['a', 'day', 'in', 'the', 'life', 'i', 'read', 'the', 'news', 'today', 'oh', 'boy', 'about', 'a', 'lucky', 'man', 'who', 'made', 'the', 'grade', 'and', 'though', 'the', 'news', 'was', 'rather', 'sad', 'well', 'i', 'just', 'had', 'to', 'laugh', 'i', 'saw', 'the', 'photograph.', 'he', 'blew', 'his', 'mind', 'out', 'in', 'a', 'car', 'he', 'didn’t', 'notice', 'that', 'the']\n",
      "a day in the life i read the news today oh boy abo\n",
      "Total Sequences: 41686\n"
     ]
    }
   ],
   "source": [
    "task1('beatles.txt', 3, 4)"
   ]
  },
  {
   "cell_type": "markdown",
   "metadata": {},
   "source": [
    "## Task 2"
   ]
  },
  {
   "cell_type": "code",
   "execution_count": 5,
   "metadata": {},
   "outputs": [],
   "source": [
    "def task2(train_textfile):\n",
    "    # open the file as read, read text, and close file\n",
    "    file = open(train_textfile, 'r')\n",
    "    text = file.read()\n",
    "    file.close()\n",
    "    \n",
    "    # get list of sequences by splitting the text by new line\n",
    "    lines = text.split('\\n')\n",
    "    \n",
    "    # get unique characters\n",
    "    chars = sorted(list(set(text)))\n",
    "    # get mapping of character to integer values and store in a dictionary\n",
    "    char_to_i_mapping = dict((c, i) for i, c in enumerate(chars))\n",
    "    # save the mapping\n",
    "    dump(char_to_i_mapping, open('mapping.pkl', 'wb'))\n",
    "    # get vocabulary size\n",
    "    vocab_size = len(char_to_i_mapping)\n",
    "    print('Vocabulary size: %d' % vocab_size)\n",
    "    \n",
    "    # integer encode each sequence of characters using the dictionary mapping\n",
    "    sequences = []\n",
    "    for line in lines:\n",
    "        # integer encode line\n",
    "        encoded_seq = [char_to_i_mapping[char] for char in line]\n",
    "        # store\n",
    "        sequences.append(encoded_seq)\n",
    "    \n",
    "    # now separate the integer encoded sequences into input and output\n",
    "    sequences = np.array(sequences)\n",
    "    X = sequences[:,:-1]\n",
    "    y = sequences[:,-1]\n",
    "    \n",
    "    # now one-hot encode each character, meaning each character becomes a vector of length vocab_size with a 1 marked \n",
    "    # for the character and 0s elsewhere\n",
    "    sequences = [to_categorical(x, num_classes=vocab_size) for x in X]\n",
    "    X = np.array(sequences)\n",
    "    y = to_categorical(y, num_classes=vocab_size)\n",
    "    print('X shape: %s and y shape: %s' %(X.shape, y.shape))\n",
    "    \n",
    "    return(X, y)"
   ]
  },
  {
   "cell_type": "code",
   "execution_count": 6,
   "metadata": {},
   "outputs": [
    {
     "name": "stdout",
     "output_type": "stream",
     "text": [
      "Vocabulary size: 48\n",
      "X shape: (41686, 3, 48) and y shape: (41686, 48)\n"
     ]
    }
   ],
   "source": [
    "X, y = task2('train_data.txt')"
   ]
  },
  {
   "cell_type": "markdown",
   "metadata": {},
   "source": [
    "## Task 3"
   ]
  },
  {
   "cell_type": "code",
   "execution_count": 118,
   "metadata": {},
   "outputs": [],
   "source": [
    "def task3(model, mapping, window_size, init_chars, n_chars):\n",
    "    text = init_chars\n",
    "    # predict a fixed number of characters\n",
    "    for i in range(n_chars):\n",
    "        # integer encode the characters\n",
    "        encoded = [mapping[chara] for chara in text]\n",
    "        # truncate sequences to a fixed length\n",
    "        encoded = pad_sequences([encoded], maxlen=window_size, truncating='pre')\n",
    "        # one hot encode\n",
    "        encoded = to_categorical(encoded, num_classes=len(mapping))\n",
    "        # predict the next character\n",
    "        pred_char = model.predict_classes(encoded, verbose=0)\n",
    "        # reverse mapping of predicted character (integer to character)\n",
    "        out_char = ''\n",
    "        for char, index in mapping.items():\n",
    "            if index == pred_char:\n",
    "                out_char = char\n",
    "                break\n",
    "        # append to input\n",
    "        text += out_char\n",
    "    return text"
   ]
  },
  {
   "cell_type": "code",
   "execution_count": 119,
   "metadata": {},
   "outputs": [
    {
     "name": "stdout",
     "output_type": "stream",
     "text": [
      "a day the sun she sun s\n",
      "now i want to the sun s\n",
      "you say the sun she sun\n"
     ]
    }
   ],
   "source": [
    "# load the mapping\n",
    "mapping = load(open('mapping.pkl', 'rb'))\n",
    " \n",
    "# test start of rhyme\n",
    "print(task3(model, mapping, 3, 'a d', 20))\n",
    "# test mid-line\n",
    "print(task3(model, mapping, 3, 'now', 20))\n",
    "# test not in original\n",
    "print(task3(model, mapping, 3, 'you', 20))"
   ]
  },
  {
   "cell_type": "markdown",
   "metadata": {},
   "source": [
    "## Task 4"
   ]
  },
  {
   "cell_type": "code",
   "execution_count": 170,
   "metadata": {},
   "outputs": [],
   "source": [
    "class MyCustomCallback(keras.callbacks.Callback):    \n",
    "    def on_epoch_end(self, epoch, logs=None):\n",
    "        mapping = load(open('mapping.pkl', 'rb'))\n",
    "        random_index = np.random.randint(low=0, high=X.shape[0], size=1)\n",
    "        if epoch%2 == 0:\n",
    "            prediction = model.predict_classes(np.reshape(X[random_index], (1, X[0].shape[0], X[0].shape[1])))\n",
    "            out_char = ''\n",
    "            for char, index in mapping.items():\n",
    "                if index == prediction:\n",
    "                    out_char = char\n",
    "                    break\n",
    "            print(out_char) # return prediction\n",
    "\n",
    "def task4(model, X, y, n_epochs):\n",
    "    # compile model\n",
    "    model.compile(loss='categorical_crossentropy', optimizer='adam')\n",
    "    # fit model\n",
    "    history = model.fit(X, y, epochs=n_epochs, verbose=1, callbacks=[MyCustomCallback()])\n",
    "    \n",
    "    # Plot training loss values vs epochs\n",
    "    plt.figure(figsize=(8,6))\n",
    "    plt.plot(history.history['loss'])\n",
    "    plt.title('Loss vs. Epochs')\n",
    "    plt.xticks(np.arange(0, n_epochs, step=1))\n",
    "    plt.ylabel('Loss')\n",
    "    plt.xlabel('Epoch')\n",
    "    plt.legend(['Train'], loc='upper right')\n",
    "    plt.savefig('epoch_loss.png')\n",
    "    plt.show()"
   ]
  },
  {
   "cell_type": "markdown",
   "metadata": {},
   "source": [
    "## Task 5"
   ]
  },
  {
   "cell_type": "code",
   "execution_count": 131,
   "metadata": {},
   "outputs": [
    {
     "name": "stdout",
     "output_type": "stream",
     "text": [
      "Vocabulary size: 48\n"
     ]
    }
   ],
   "source": [
    "# open the file as read, read text, and close file\n",
    "file = open('train_data.txt', 'r')\n",
    "text = file.read()\n",
    "file.close()\n",
    "\n",
    "# get list of sequences by splitting the text by new line\n",
    "lines = text.split('\\n')\n",
    "\n",
    "# get unique characters\n",
    "chars = sorted(list(set(text)))\n",
    "# get mapping of character to integer values and store in a dictionary\n",
    "char_to_i_mapping = dict((c, i) for i, c in enumerate(chars))\n",
    "# save the mapping\n",
    "dump(char_to_i_mapping, open('mapping.pkl', 'wb'))\n",
    "# get vocabulary size\n",
    "vocab_size = len(char_to_i_mapping)\n",
    "print('Vocabulary size: %d' % vocab_size)"
   ]
  },
  {
   "cell_type": "code",
   "execution_count": 150,
   "metadata": {},
   "outputs": [
    {
     "name": "stdout",
     "output_type": "stream",
     "text": [
      "Model: \"sequential_9\"\n",
      "_________________________________________________________________\n",
      "Layer (type)                 Output Shape              Param #   \n",
      "=================================================================\n",
      "simple_rnn_4 (SimpleRNN)     (None, 100)               14900     \n",
      "_________________________________________________________________\n",
      "dense_7 (Dense)              (None, 48)                4848      \n",
      "=================================================================\n",
      "Total params: 19,748\n",
      "Trainable params: 19,748\n",
      "Non-trainable params: 0\n",
      "_________________________________________________________________\n"
     ]
    },
    {
     "name": "stderr",
     "output_type": "stream",
     "text": [
      "/Users/annanau/anaconda3/envs/tf/lib/python3.7/site-packages/ipykernel_launcher.py:3: UserWarning: The `input_dim` and `input_length` arguments in recurrent layers are deprecated. Use `input_shape` instead.\n",
      "  This is separate from the ipykernel package so we can avoid doing imports until\n",
      "/Users/annanau/anaconda3/envs/tf/lib/python3.7/site-packages/ipykernel_launcher.py:3: UserWarning: Update your `SimpleRNN` call to the Keras 2 API: `SimpleRNN(100, input_shape=(None, 48))`\n",
      "  This is separate from the ipykernel package so we can avoid doing imports until\n"
     ]
    }
   ],
   "source": [
    "# SimpleRNN\n",
    "model1 = Sequential() \n",
    "model1.add(SimpleRNN(100, input_dim=vocab_size)) \n",
    "model1.add(Dense(vocab_size))\n",
    "model1.summary()"
   ]
  },
  {
   "cell_type": "code",
   "execution_count": 155,
   "metadata": {},
   "outputs": [],
   "source": [
    "model.save('model1.h5')"
   ]
  },
  {
   "cell_type": "code",
   "execution_count": 171,
   "metadata": {},
   "outputs": [
    {
     "name": "stdout",
     "output_type": "stream",
     "text": [
      "Epoch 1/4\n",
      "41686/41686 [==============================] - 9s 225us/step - loss: 9.9363\n",
      "t\n",
      "Epoch 2/4\n",
      "41686/41686 [==============================] - 9s 210us/step - loss: 9.9363\n",
      "Epoch 3/4\n",
      "41686/41686 [==============================] - 9s 218us/step - loss: 9.9363\n",
      " \n",
      "Epoch 4/4\n",
      "41686/41686 [==============================] - 9s 225us/step - loss: 9.9363\n"
     ]
    },
    {
     "data": {
      "image/png": "[encoded data removed]",
      "text/plain": [
       "<Figure size 576x432 with 1 Axes>"
      ]
     },
     "metadata": {
      "needs_background": "light"
     },
     "output_type": "display_data"
    }
   ],
   "source": [
    "task4(model1, X, y, n_epochs=4)"
   ]
  },
  {
   "cell_type": "code",
   "execution_count": null,
   "metadata": {},
   "outputs": [],
   "source": [
    "# SimpleRNN\n",
    "model2 = Sequential() \n",
    "model2.add(SimpleRNN(100, input_dim=vocab_size)) \n",
    "model2.add(Dense(vocab_size))\n",
    "model2.summary()"
   ]
  },
  {
   "cell_type": "code",
   "execution_count": null,
   "metadata": {},
   "outputs": [],
   "source": [
    "model.save('model2.h5')"
   ]
  },
  {
   "cell_type": "code",
   "execution_count": null,
   "metadata": {},
   "outputs": [],
   "source": [
    "# SimpleRNN\n",
    "model3 = Sequential() \n",
    "model3.add(SimpleRNN(100, input_dim=vocab_size)) \n",
    "model3.add(Dense(vocab_size))\n",
    "model3.summary()"
   ]
  },
  {
   "cell_type": "code",
   "execution_count": null,
   "metadata": {},
   "outputs": [],
   "source": [
    "model.save('model3.h5')"
   ]
  },
  {
   "cell_type": "code",
   "execution_count": null,
   "metadata": {},
   "outputs": [],
   "source": [
    "# SimpleRNN\n",
    "model4 = Sequential() \n",
    "model4.add(SimpleRNN(100, input_dim=vocab_size)) \n",
    "model4.add(Dense(vocab_size))\n",
    "model4.summary()"
   ]
  },
  {
   "cell_type": "code",
   "execution_count": 122,
   "metadata": {
    "collapsed": true
   },
   "outputs": [
    {
     "name": "stdout",
     "output_type": "stream",
     "text": [
      "Model: \"sequential_4\"\n",
      "_________________________________________________________________\n",
      "Layer (type)                 Output Shape              Param #   \n",
      "=================================================================\n",
      "lstm_3 (LSTM)                (None, 75)                37200     \n",
      "_________________________________________________________________\n",
      "dense_3 (Dense)              (None, 48)                3648      \n",
      "=================================================================\n",
      "Total params: 40,848\n",
      "Trainable params: 40,848\n",
      "Non-trainable params: 0\n",
      "_________________________________________________________________\n",
      "None\n"
     ]
    }
   ],
   "source": [
    "# LSTM: \n",
    "model5 = Sequential()\n",
    "model5.add(LSTM(75, input_shape=(X.shape[1], X.shape[2])))\n",
    "model5.add(Dense(vocab_size, activation='softmax'))\n",
    "print(model5.summary())"
   ]
  },
  {
   "cell_type": "code",
   "execution_count": null,
   "metadata": {},
   "outputs": [],
   "source": [
    "# LSTM: \n",
    "model6 = Sequential()\n",
    "model6.add(LSTM(75, input_shape=(X.shape[1], X.shape[2])))\n",
    "model6.add(Dense(vocab_size, activation='softmax'))\n",
    "print(model5.summary())"
   ]
  },
  {
   "cell_type": "code",
   "execution_count": null,
   "metadata": {},
   "outputs": [],
   "source": [
    "# LSTM: \n",
    "model7 = Sequential()\n",
    "model7.add(LSTM(75, input_shape=(X.shape[1], X.shape[2])))\n",
    "model7.add(Dense(vocab_size, activation='softmax'))\n",
    "print(model5.summary())"
   ]
  },
  {
   "cell_type": "code",
   "execution_count": null,
   "metadata": {},
   "outputs": [],
   "source": [
    "# LSTM: \n",
    "model8 = Sequential()\n",
    "model8.add(LSTM(75, input_shape=(X.shape[1], X.shape[2])))\n",
    "model8.add(Dense(vocab_size, activation='softmax'))\n",
    "print(model5.summary())"
   ]
  },
  {
   "cell_type": "code",
   "execution_count": 40,
   "metadata": {},
   "outputs": [],
   "source": [
    "model.save('model.h5')"
   ]
  },
  {
   "cell_type": "markdown",
   "metadata": {},
   "source": [
    "## Other"
   ]
  },
  {
   "cell_type": "code",
   "execution_count": null,
   "metadata": {},
   "outputs": [],
   "source": [
    "def task4(model, train_data, n_epochs, window_size, stride):\n",
    "    # generate training sequences\n",
    "    task1('beatles.txt', window_size, stride)\n",
    "    \n",
    "    # get input X and output array y for training\n",
    "    X, y = task2('train_data.txt')\n",
    "    \n",
    "    # now train the model\n",
    "    # compile model\n",
    "    model.compile(loss='categorical_crossentropy', optimizer='adam', metrics=['accuracy'])\n",
    "    # fit model\n",
    "    model.fit(X, y, epochs=n_epochs, verbose=1)"
   ]
  },
  {
   "cell_type": "code",
   "execution_count": 42,
   "metadata": {},
   "outputs": [],
   "source": [
    "def task3(model, window_size, init_chars, n_chars):\n",
    "    in_text = init_chars\n",
    "    for char in range(n_chars):\n",
    "        predicted = model.predict_classes(init_chars, verbose=0)\n",
    "        print(predicted)\n",
    "        # append to input\n",
    "        in_text += predicted\n",
    "    print(in_text)"
   ]
  },
  {
   "cell_type": "code",
   "execution_count": 2,
   "metadata": {},
   "outputs": [
    {
     "name": "stdout",
     "output_type": "stream",
     "text": [
      "Vocabulary size: 48\n"
     ]
    }
   ],
   "source": [
    "# open the file as read, read text, and close file\n",
    "file = open('train_data.txt', 'r')\n",
    "text = file.read()\n",
    "file.close()\n",
    "\n",
    "# get list of sequences by splitting the text by new line\n",
    "lines = text.split('\\n')\n",
    "\n",
    "# get unique characters\n",
    "chars = sorted(list(set(text)))\n",
    "# get mapping of character to integer values and store in a dictionary\n",
    "char_to_i_mapping = dict((c, i) for i, c in enumerate(chars))\n",
    "# save the mapping\n",
    "dump(char_to_i_mapping, open('mapping.pkl', 'wb'))\n",
    "# get vocabulary size\n",
    "vocab_size = len(char_to_i_mapping)\n",
    "print('Vocabulary size: %d' % vocab_size)"
   ]
  },
  {
   "cell_type": "code",
   "execution_count": 89,
   "metadata": {
    "collapsed": true
   },
   "outputs": [
    {
     "ename": "TypeError",
     "evalue": "'History' object is not subscriptable",
     "output_type": "error",
     "traceback": [
      "\u001b[0;31m---------------------------------------------------------------------------\u001b[0m",
      "\u001b[0;31mTypeError\u001b[0m                                 Traceback (most recent call last)",
      "\u001b[0;32m<ipython-input-89-ecf696f6b554>\u001b[0m in \u001b[0;36m<module>\u001b[0;34m\u001b[0m\n\u001b[0;32m----> 1\u001b[0;31m \u001b[0mmodel\u001b[0m\u001b[0;34m.\u001b[0m\u001b[0mhistory\u001b[0m\u001b[0;34m[\u001b[0m\u001b[0;34m'loss'\u001b[0m\u001b[0;34m]\u001b[0m\u001b[0;34m\u001b[0m\u001b[0;34m\u001b[0m\u001b[0m\n\u001b[0m",
      "\u001b[0;31mTypeError\u001b[0m: 'History' object is not subscriptable"
     ]
    }
   ],
   "source": [
    "class PredictionCallback(keras.callbacks.Callback):    \n",
    "  def on_epoch_end(self, epoch, logs={}):\n",
    "    y_pred = self.model.predict_classes(self)\n",
    "    print('prediction: {} at epoch: {}'.format(y_pred, epoch))"
   ]
  },
  {
   "cell_type": "code",
   "execution_count": null,
   "metadata": {},
   "outputs": [],
   "source": []
  }
 ],
 "metadata": {
  "kernelspec": {
   "display_name": "Python 3",
   "language": "python",
   "name": "python3"
  },
  "language_info": {
   "codemirror_mode": {
    "name": "ipython",
    "version": 3
   },
   "file_extension": ".py",
   "mimetype": "text/x-python",
   "name": "python",
   "nbconvert_exporter": "python",
   "pygments_lexer": "ipython3",
   "version": "3.7.7"
  }
 },
 "nbformat": 4,
 "nbformat_minor": 4
}
