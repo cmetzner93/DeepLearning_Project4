{
 "cells": [
  {
   "cell_type": "code",
   "execution_count": 2,
   "metadata": {},
   "outputs": [
    {
     "name": "stderr",
     "output_type": "stream",
     "text": [
      "Using TensorFlow backend.\n"
     ]
    }
   ],
   "source": [
    "import numpy as np\n",
    "from tensorflow import keras\n",
    "from keras.utils import to_categorical\n",
    "from keras.models import Sequential, load_model\n",
    "from keras.layers import Dense\n",
    "from keras.layers import LSTM, SimpleRNN\n",
    "from keras.preprocessing.sequence import pad_sequences\n",
    "from pickle import dump, load\n",
    "import matplotlib.pyplot as plt\n",
    "from keras.utils.vis_utils import plot_model"
   ]
  },
  {
   "cell_type": "markdown",
   "metadata": {},
   "source": [
    "## Task 1"
   ]
  },
  {
   "cell_type": "code",
   "execution_count": 3,
   "metadata": {},
   "outputs": [],
   "source": [
    "def get_train_data(textfile, window_size, stride):\n",
    "    # open the file as read, read text, and close file\n",
    "    file = open(textfile, 'r')\n",
    "    text = file.read()\n",
    "    file.close()\n",
    "    \n",
    "    # strip of the new line characters so that we \n",
    "    # have one long sequence of characters separated only \n",
    "    # by white space\n",
    "    tokens = text.split()\n",
    "    data = ' '.join(tokens)\n",
    "    \n",
    "    # get sequences of characters of length window_size+1\n",
    "    sequences = []\n",
    "    for i in range(window_size, len(data), stride):\n",
    "        sequence = data[i - window_size: i + 1]\n",
    "        sequences.append(sequence)\n",
    "    print('Total Sequences: %d' % len(sequences))\n",
    "    \n",
    "    # save sequences \n",
    "    data = '\\n'.join(sequences)\n",
    "    file = open('train_data.txt', 'w')\n",
    "    file.write(data)\n",
    "    file.close()"
   ]
  },
  {
   "cell_type": "code",
   "execution_count": 3,
   "metadata": {},
   "outputs": [
    {
     "name": "stdout",
     "output_type": "stream",
     "text": [
      "Total Sequences: 166732\n"
     ]
    }
   ],
   "source": [
    "get_train_data('beatles.txt', window_size=10, stride=1)"
   ]
  },
  {
   "cell_type": "markdown",
   "metadata": {},
   "source": [
    "## Task 2"
   ]
  },
  {
   "cell_type": "code",
   "execution_count": 27,
   "metadata": {},
   "outputs": [],
   "source": [
    "def preprocess_data(train_textfile):\n",
    "    # open the file as read, read text, and close file\n",
    "    file = open(train_textfile, 'r')\n",
    "    text = file.read()\n",
    "    file.close()\n",
    "    \n",
    "    # get list of sequences by splitting the text by new line\n",
    "    lines = text.split('\\n')\n",
    "    \n",
    "    # get unique characters\n",
    "    chars = sorted(list(set(text)))\n",
    "    # get mapping of character to integer values and store in a dictionary\n",
    "    char_to_i_mapping = dict((c, i) for i, c in enumerate(chars))\n",
    "    # save the mapping\n",
    "    dump(char_to_i_mapping, open('mapping.pkl', 'wb'))\n",
    "    # get vocabulary size\n",
    "    vocab_size = len(char_to_i_mapping)\n",
    "    print('Vocabulary size: %d' % vocab_size)\n",
    "    \n",
    "    # integer encode each sequence of characters using the dictionary mapping\n",
    "    sequences = []\n",
    "    for line in lines:\n",
    "        # integer encode line\n",
    "        encoded_seq = [char_to_i_mapping[char] for char in line]\n",
    "        # store\n",
    "        sequences.append(encoded_seq)\n",
    "    \n",
    "    # now separate the integer encoded sequences into input and output\n",
    "    sequences = np.array(sequences)\n",
    "    X = sequences[:,:-1]\n",
    "    y = sequences[:,-1]\n",
    "    \n",
    "    # now one-hot encode each character, meaning each character becomes a vector of length vocab_size with a 1 marked \n",
    "    # for the character and 0s elsewhere\n",
    "    sequences = [to_categorical(x, num_classes=vocab_size) for x in X]\n",
    "    X = np.array(sequences)\n",
    "    y = to_categorical(y, num_classes=vocab_size)\n",
    "    print('X shape: %s and y shape: %s' %(X.shape, y.shape))\n",
    "    \n",
    "    return(X, y)"
   ]
  },
  {
   "cell_type": "code",
   "execution_count": 28,
   "metadata": {},
   "outputs": [
    {
     "name": "stdout",
     "output_type": "stream",
     "text": [
      "Vocabulary size: 48\n",
      "X shape: (33347, 10, 48) and y shape: (33347, 48)\n"
     ]
    }
   ],
   "source": [
    "X, y = preprocess_data('train_data.txt')"
   ]
  },
  {
   "cell_type": "markdown",
   "metadata": {},
   "source": [
    "## Task 3"
   ]
  },
  {
   "cell_type": "code",
   "execution_count": 29,
   "metadata": {},
   "outputs": [],
   "source": [
    "def predict_characters(model, mapping, window_size, init_chars, n_chars):\n",
    "    text = init_chars\n",
    "    # predict a fixed number of characters\n",
    "    for i in range(n_chars):\n",
    "        # integer encode the characters\n",
    "        encoded = [mapping[chara] for chara in text]\n",
    "        # truncate sequences to a fixed length\n",
    "        encoded = pad_sequences([encoded], maxlen=window_size, truncating='pre')\n",
    "        # one hot encode\n",
    "        encoded = to_categorical(encoded, num_classes=len(mapping))\n",
    "        # predict the next character\n",
    "        pred_char = model.predict_classes(encoded, verbose=0)\n",
    "        # reverse mapping of predicted character (integer to character)\n",
    "        out_char = ''\n",
    "        for char, index in mapping.items():\n",
    "            if index == pred_char:\n",
    "                out_char = char\n",
    "                break\n",
    "        # append to input\n",
    "        text += out_char\n",
    "    return text"
   ]
  },
  {
   "cell_type": "markdown",
   "metadata": {},
   "source": [
    "## Task 4"
   ]
  },
  {
   "cell_type": "code",
   "execution_count": 41,
   "metadata": {},
   "outputs": [],
   "source": [
    "class predict_during_training(keras.callbacks.Callback):    \n",
    "    def __init__(self, model, sequences):\n",
    "        self.model = model\n",
    "        self.sequences = sequences\n",
    "        \n",
    "    def on_epoch_end(self, epoch, logs=None):\n",
    "        mapping = load(open('mapping.pkl', 'rb'))\n",
    "        window_size = len(self.sequences[0])\n",
    "        if epoch%5 == 0:\n",
    "            for i in self.sequences:\n",
    "                text = predict_characters(self.model, mapping, window_size=window_size, \n",
    "                                      init_chars=i, n_chars=10)\n",
    "                print(text) # return prediction\n",
    "            print()\n",
    "\n",
    "def train_model(model, X, y, n_epochs, model_name):\n",
    "    # open the file as read, read text, and close file\n",
    "    file = open('train_data.txt', 'r')\n",
    "    text = file.read()\n",
    "    file.close()\n",
    "    # get list of sequences by splitting the text by new line\n",
    "    lines = text.split('\\n')\n",
    "        \n",
    "    # get list of 3 random sequences from training data which will be used to \n",
    "    # generate/predict characters during training\n",
    "    random_indexes = list(np.random.randint(low=0, high=len(lines) - X.shape[1] - 1, size=3))\n",
    "    random_sequences = [lines[index][:-1] for index in random_indexes]\n",
    "    \n",
    "    # compile model\n",
    "    model.compile(loss='categorical_crossentropy', optimizer='adam')\n",
    "    # fit model\n",
    "    history = model.fit(X, y, epochs=n_epochs, verbose=1, \n",
    "                        callbacks=[predict_during_training(model, random_sequences)])\n",
    "    # save model for later use\n",
    "    model.save('models/%s.h5' %(model_name))\n",
    "    # save model history\n",
    "    with open('train_history/%s.pkl' %(model_name), 'wb') as file:\n",
    "        dump(history.history, file)\n",
    "        \n",
    "    # Plot training loss values vs epochs\n",
    "    epoch_loss_plot(history.history, n_epochs, model_name)\n",
    "    \n",
    "    return history"
   ]
  },
  {
   "cell_type": "code",
   "execution_count": 37,
   "metadata": {},
   "outputs": [],
   "source": [
    "def epoch_loss_plot(history_dict, n_epochs, model_name):\n",
    "    # Plot training loss values vs epochs\n",
    "    #plt.figure(figsize=(10,8))\n",
    "    plt.plot(history_dict['loss'])\n",
    "    plt.title('Loss vs. Epochs')\n",
    "    plt.ylabel('Loss')\n",
    "    plt.xlabel('Epoch')\n",
    "    plt.legend(['Train'], loc='upper right')\n",
    "    plt.savefig('plots/epoch_loss_%s.png' %(model_name))\n",
    "    plt.show()"
   ]
  },
  {
   "cell_type": "markdown",
   "metadata": {},
   "source": [
    "## Task 6"
   ]
  },
  {
   "cell_type": "code",
   "execution_count": 51,
   "metadata": {
    "collapsed": true
   },
   "outputs": [
    {
     "name": "stdout",
     "output_type": "stream",
     "text": [
      "Model: \"sequential_1\"\n",
      "_________________________________________________________________\n",
      "Layer (type)                 Output Shape              Param #   \n",
      "=================================================================\n",
      "simple_rnn_1 (SimpleRNN)     (None, 75)                9300      \n",
      "_________________________________________________________________\n",
      "dense_1 (Dense)              (None, 48)                3648      \n",
      "=================================================================\n",
      "Total params: 12,948\n",
      "Trainable params: 12,948\n",
      "Non-trainable params: 0\n",
      "_________________________________________________________________\n",
      "None\n",
      "good like you see it be \n"
     ]
    }
   ],
   "source": [
    "# load the mapping\n",
    "mapping = load(open('mapping.pkl', 'rb'))\n",
    "# load model\n",
    "model = load_model('models/rnn_75_4_2.h5')\n",
    "print(model.summary())\n",
    "\n",
    "# generate text\n",
    "print(predict_characters(model, mapping, window_size=4, init_chars='good', n_chars=20))"
   ]
  },
  {
   "cell_type": "code",
   "execution_count": 50,
   "metadata": {
    "collapsed": true
   },
   "outputs": [
    {
     "name": "stdout",
     "output_type": "stream",
     "text": [
      "Model: \"sequential_1\"\n",
      "_________________________________________________________________\n",
      "Layer (type)                 Output Shape              Param #   \n",
      "=================================================================\n",
      "simple_rnn_1 (SimpleRNN)     (None, 100)               14900     \n",
      "_________________________________________________________________\n",
      "dense_1 (Dense)              (None, 48)                4848      \n",
      "=================================================================\n",
      "Total params: 19,748\n",
      "Trainable params: 19,748\n",
      "Non-trainable params: 0\n",
      "_________________________________________________________________\n",
      "None\n",
      "good do you say the way \n"
     ]
    }
   ],
   "source": [
    "# load model\n",
    "model = load_model('models/rnn_100_4_2.h5')\n",
    "print(model.summary())\n",
    "\n",
    "# generate text\n",
    "print(predict_characters(model, mapping, window_size=4, init_chars='good', n_chars=20))"
   ]
  },
  {
   "cell_type": "code",
   "execution_count": 55,
   "metadata": {
    "collapsed": true
   },
   "outputs": [
    {
     "name": "stdout",
     "output_type": "stream",
     "text": [
      "Model: \"sequential_1\"\n",
      "_________________________________________________________________\n",
      "Layer (type)                 Output Shape              Param #   \n",
      "=================================================================\n",
      "simple_rnn_1 (SimpleRNN)     (None, 75)                9300      \n",
      "_________________________________________________________________\n",
      "dense_1 (Dense)              (None, 48)                3648      \n",
      "=================================================================\n",
      "Total params: 12,948\n",
      "Trainable params: 12,948\n",
      "Non-trainable params: 0\n",
      "_________________________________________________________________\n",
      "None\n",
      "sergeant pe mo look don't be l\n"
     ]
    }
   ],
   "source": [
    "# load model\n",
    "model = load_model('models/rnn_75_10_5.h5')\n",
    "print(model.summary())\n",
    "\n",
    "# generate text\n",
    "print(predict_characters(model, mapping, window_size=10, init_chars='sergeant p', n_chars=20))"
   ]
  },
  {
   "cell_type": "code",
   "execution_count": 54,
   "metadata": {
    "collapsed": true
   },
   "outputs": [
    {
     "name": "stdout",
     "output_type": "stream",
     "text": [
      "Model: \"sequential_1\"\n",
      "_________________________________________________________________\n",
      "Layer (type)                 Output Shape              Param #   \n",
      "=================================================================\n",
      "simple_rnn_1 (SimpleRNN)     (None, 100)               14900     \n",
      "_________________________________________________________________\n",
      "dense_1 (Dense)              (None, 48)                4848      \n",
      "=================================================================\n",
      "Total params: 19,748\n",
      "Trainable params: 19,748\n",
      "Non-trainable params: 0\n",
      "_________________________________________________________________\n",
      "None\n",
      "sergeant pepper’s lonely heart\n"
     ]
    }
   ],
   "source": [
    "# load model\n",
    "model = load_model('models/rnn_100_10_5.h5')\n",
    "print(model.summary())\n",
    "\n",
    "# generate text\n",
    "print(predict_characters(model, mapping, window_size=10, init_chars='sergeant p', n_chars=20))"
   ]
  },
  {
   "cell_type": "code",
   "execution_count": 56,
   "metadata": {},
   "outputs": [
    {
     "name": "stdout",
     "output_type": "stream",
     "text": [
      "Model: \"sequential_1\"\n",
      "_________________________________________________________________\n",
      "Layer (type)                 Output Shape              Param #   \n",
      "=================================================================\n",
      "simple_rnn_1 (SimpleRNN)     (None, None, 100)         14900     \n",
      "_________________________________________________________________\n",
      "dropout_1 (Dropout)          (None, None, 100)         0         \n",
      "_________________________________________________________________\n",
      "simple_rnn_2 (SimpleRNN)     (None, 100)               20100     \n",
      "_________________________________________________________________\n",
      "dropout_2 (Dropout)          (None, 100)               0         \n",
      "_________________________________________________________________\n",
      "dense_1 (Dense)              (None, 48)                4848      \n",
      "=================================================================\n",
      "Total params: 39,848\n",
      "Trainable params: 39,848\n",
      "Non-trainable params: 0\n",
      "_________________________________________________________________\n",
      "None\n",
      "sergeant please me down the lo\n"
     ]
    }
   ],
   "source": [
    "# load model\n",
    "model = load_model('models/rnn_multi_100_10_5.h5')\n",
    "print(model.summary())\n",
    "\n",
    "# generate text\n",
    "print(predict_characters(model, mapping, window_size=10, init_chars='sergeant p', n_chars=20))"
   ]
  },
  {
   "cell_type": "code",
   "execution_count": 57,
   "metadata": {},
   "outputs": [
    {
     "name": "stdout",
     "output_type": "stream",
     "text": [
      "Model: \"sequential_1\"\n",
      "_________________________________________________________________\n",
      "Layer (type)                 Output Shape              Param #   \n",
      "=================================================================\n",
      "lstm_1 (LSTM)                (None, 75)                37200     \n",
      "_________________________________________________________________\n",
      "dense_1 (Dense)              (None, 48)                3648      \n",
      "=================================================================\n",
      "Total params: 40,848\n",
      "Trainable params: 40,848\n",
      "Non-trainable params: 0\n",
      "_________________________________________________________________\n",
      "None\n",
      "good day i love you know\n"
     ]
    }
   ],
   "source": [
    "# load model\n",
    "model = load_model('models/lstm_75_4_2.h5')\n",
    "print(model.summary())\n",
    "\n",
    "# generate text\n",
    "print(predict_characters(model, mapping, window_size=4, init_chars='good', n_chars=20))"
   ]
  },
  {
   "cell_type": "code",
   "execution_count": 58,
   "metadata": {},
   "outputs": [
    {
     "name": "stdout",
     "output_type": "stream",
     "text": [
      "Model: \"sequential_1\"\n",
      "_________________________________________________________________\n",
      "Layer (type)                 Output Shape              Param #   \n",
      "=================================================================\n",
      "lstm_1 (LSTM)                (None, 100)               59600     \n",
      "_________________________________________________________________\n",
      "dense_1 (Dense)              (None, 48)                4848      \n",
      "=================================================================\n",
      "Total params: 64,448\n",
      "Trainable params: 64,448\n",
      "Non-trainable params: 0\n",
      "_________________________________________________________________\n",
      "None\n",
      "good love you know the s\n"
     ]
    }
   ],
   "source": [
    "# load model\n",
    "model = load_model('models/lstm_100_4_2.h5')\n",
    "print(model.summary())\n",
    "\n",
    "# generate text\n",
    "print(predict_characters(model, mapping, window_size=4, init_chars='good', n_chars=20))"
   ]
  },
  {
   "cell_type": "code",
   "execution_count": 60,
   "metadata": {},
   "outputs": [
    {
     "name": "stdout",
     "output_type": "stream",
     "text": [
      "Model: \"sequential_1\"\n",
      "_________________________________________________________________\n",
      "Layer (type)                 Output Shape              Param #   \n",
      "=================================================================\n",
      "lstm_1 (LSTM)                (None, 75)                37200     \n",
      "_________________________________________________________________\n",
      "dense_1 (Dense)              (None, 48)                3648      \n",
      "=================================================================\n",
      "Total params: 40,848\n",
      "Trainable params: 40,848\n",
      "Non-trainable params: 0\n",
      "_________________________________________________________________\n",
      "None\n",
      "sergeant peppare the rouly fru\n"
     ]
    }
   ],
   "source": [
    "# load model\n",
    "model = load_model('models/lstm_75_10_5.h5')\n",
    "print(model.summary())\n",
    "\n",
    "# generate text\n",
    "print(predict_characters(model, mapping, window_size=10, init_chars='sergeant p', n_chars=20))"
   ]
  },
  {
   "cell_type": "code",
   "execution_count": 61,
   "metadata": {},
   "outputs": [
    {
     "name": "stdout",
     "output_type": "stream",
     "text": [
      "Model: \"sequential_1\"\n",
      "_________________________________________________________________\n",
      "Layer (type)                 Output Shape              Param #   \n",
      "=================================================================\n",
      "lstm_1 (LSTM)                (None, 100)               59600     \n",
      "_________________________________________________________________\n",
      "dense_1 (Dense)              (None, 48)                4848      \n",
      "=================================================================\n",
      "Total params: 64,448\n",
      "Trainable params: 64,448\n",
      "Non-trainable params: 0\n",
      "_________________________________________________________________\n",
      "None\n",
      "sergeant pepper’s lonely heart\n"
     ]
    }
   ],
   "source": [
    "# load model\n",
    "model = load_model('models/lstm_100_10_5.h5')\n",
    "print(model.summary())\n",
    "\n",
    "# generate text\n",
    "print(predict_characters(model, mapping, window_size=10, init_chars='sergeant p', n_chars=20))"
   ]
  },
  {
   "cell_type": "code",
   "execution_count": 62,
   "metadata": {},
   "outputs": [
    {
     "name": "stdout",
     "output_type": "stream",
     "text": [
      "Model: \"sequential_1\"\n",
      "_________________________________________________________________\n",
      "Layer (type)                 Output Shape              Param #   \n",
      "=================================================================\n",
      "lstm_1 (LSTM)                (None, 10, 100)           59600     \n",
      "_________________________________________________________________\n",
      "dropout_1 (Dropout)          (None, 10, 100)           0         \n",
      "_________________________________________________________________\n",
      "lstm_2 (LSTM)                (None, 100)               80400     \n",
      "_________________________________________________________________\n",
      "dropout_2 (Dropout)          (None, 100)               0         \n",
      "_________________________________________________________________\n",
      "dense_1 (Dense)              (None, 48)                4848      \n",
      "=================================================================\n",
      "Total params: 144,848\n",
      "Trainable params: 144,848\n",
      "Non-trainable params: 0\n",
      "_________________________________________________________________\n",
      "None\n",
      "sergeant pepper’s lonely wanna\n"
     ]
    }
   ],
   "source": [
    "# load model\n",
    "model = load_model('models/lstm_multi_100_10_5.h5')\n",
    "print(model.summary())\n",
    "\n",
    "# generate text\n",
    "print(predict_characters(model, mapping, window_size=10, init_chars='sergeant p', n_chars=20))"
   ]
  },
  {
   "cell_type": "code",
   "execution_count": null,
   "metadata": {},
   "outputs": [],
   "source": []
  }
 ],
 "metadata": {
  "kernelspec": {
   "display_name": "Python 3",
   "language": "python",
   "name": "python3"
  },
  "language_info": {
   "codemirror_mode": {
    "name": "ipython",
    "version": 3
   },
   "file_extension": ".py",
   "mimetype": "text/x-python",
   "name": "python",
   "nbconvert_exporter": "python",
   "pygments_lexer": "ipython3",
   "version": "3.7.7"
  }
 },
 "nbformat": 4,
 "nbformat_minor": 4
}
